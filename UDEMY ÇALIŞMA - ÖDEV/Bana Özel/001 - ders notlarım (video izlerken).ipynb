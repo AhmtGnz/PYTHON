{
 "cells": [
  {
   "cell_type": "code",
   "execution_count": 1,
   "id": "71879bc8",
   "metadata": {},
   "outputs": [
    {
     "data": {
      "text/plain": [
       "7"
      ]
     },
     "execution_count": 1,
     "metadata": {},
     "output_type": "execute_result"
    }
   ],
   "source": [
    "3+4\n"
   ]
  },
  {
   "cell_type": "code",
   "execution_count": 2,
   "id": "acb32a7b",
   "metadata": {},
   "outputs": [
    {
     "data": {
      "text/plain": [
       "-1"
      ]
     },
     "execution_count": 2,
     "metadata": {},
     "output_type": "execute_result"
    }
   ],
   "source": [
    "3-4"
   ]
  },
  {
   "cell_type": "code",
   "execution_count": 3,
   "id": "9ccf6d19",
   "metadata": {},
   "outputs": [
    {
     "data": {
      "text/plain": [
       "20774"
      ]
     },
     "execution_count": 3,
     "metadata": {},
     "output_type": "execute_result"
    }
   ],
   "source": [
    "1598*13"
   ]
  },
  {
   "cell_type": "code",
   "execution_count": 4,
   "id": "a55259a9",
   "metadata": {},
   "outputs": [
    {
     "data": {
      "text/plain": [
       "8.0"
      ]
     },
     "execution_count": 4,
     "metadata": {},
     "output_type": "execute_result"
    }
   ],
   "source": [
    "56/7\n"
   ]
  },
  {
   "cell_type": "code",
   "execution_count": 5,
   "id": "7df2c6b4",
   "metadata": {},
   "outputs": [
    {
     "data": {
      "text/plain": [
       "7.857142857142857"
      ]
     },
     "execution_count": 5,
     "metadata": {},
     "output_type": "execute_result"
    }
   ],
   "source": [
    "55/7"
   ]
  },
  {
   "cell_type": "code",
   "execution_count": 6,
   "id": "0b1a3880",
   "metadata": {},
   "outputs": [
    {
     "data": {
      "text/plain": [
       "-57"
      ]
     },
     "execution_count": 6,
     "metadata": {},
     "output_type": "execute_result"
    }
   ],
   "source": [
    "2+4-9*7\n"
   ]
  },
  {
   "cell_type": "code",
   "execution_count": 7,
   "id": "9018b087",
   "metadata": {},
   "outputs": [],
   "source": [
    "ahmet = 7"
   ]
  },
  {
   "cell_type": "code",
   "execution_count": 8,
   "id": "e1b09f88",
   "metadata": {},
   "outputs": [
    {
     "ename": "NameError",
     "evalue": "name 'murat' is not defined",
     "output_type": "error",
     "traceback": [
      "\u001b[1;31m---------------------------------------------------------------------------\u001b[0m",
      "\u001b[1;31mNameError\u001b[0m                                 Traceback (most recent call last)",
      "\u001b[1;32m<ipython-input-8-2e8492cfbc9e>\u001b[0m in \u001b[0;36m<module>\u001b[1;34m\u001b[0m\n\u001b[1;32m----> 1\u001b[1;33m \u001b[0mmurat\u001b[0m\u001b[1;33m\u001b[0m\u001b[1;33m\u001b[0m\u001b[0m\n\u001b[0m",
      "\u001b[1;31mNameError\u001b[0m: name 'murat' is not defined"
     ]
    }
   ],
   "source": [
    "murat"
   ]
  },
  {
   "cell_type": "code",
   "execution_count": 9,
   "id": "07002ccd",
   "metadata": {},
   "outputs": [
    {
     "data": {
      "text/plain": [
       "7"
      ]
     },
     "execution_count": 9,
     "metadata": {},
     "output_type": "execute_result"
    }
   ],
   "source": [
    "ahmet"
   ]
  },
  {
   "cell_type": "code",
   "execution_count": 10,
   "id": "3a74549f",
   "metadata": {},
   "outputs": [
    {
     "data": {
      "text/plain": [
       "3"
      ]
     },
     "execution_count": 10,
     "metadata": {},
     "output_type": "execute_result"
    }
   ],
   "source": [
    "a=3\n",
    "b=2\n",
    "c=a*b-a\n",
    "c"
   ]
  },
  {
   "cell_type": "code",
   "execution_count": 11,
   "id": "998e593d",
   "metadata": {},
   "outputs": [],
   "source": [
    "a=5\n",
    "b=0"
   ]
  },
  {
   "cell_type": "code",
   "execution_count": 12,
   "id": "b46a9d25",
   "metadata": {},
   "outputs": [
    {
     "data": {
      "text/plain": [
       "5"
      ]
     },
     "execution_count": 12,
     "metadata": {},
     "output_type": "execute_result"
    }
   ],
   "source": [
    "a"
   ]
  },
  {
   "cell_type": "code",
   "execution_count": 13,
   "id": "92770be3",
   "metadata": {},
   "outputs": [
    {
     "data": {
      "text/plain": [
       "0"
      ]
     },
     "execution_count": 13,
     "metadata": {},
     "output_type": "execute_result"
    }
   ],
   "source": [
    "\n",
    "b"
   ]
  },
  {
   "cell_type": "code",
   "execution_count": 14,
   "id": "f24244fe",
   "metadata": {},
   "outputs": [
    {
     "data": {
      "text/plain": [
       "5"
      ]
     },
     "execution_count": 14,
     "metadata": {},
     "output_type": "execute_result"
    }
   ],
   "source": [
    "a,b = b,a\n",
    "a\n",
    "b"
   ]
  },
  {
   "cell_type": "code",
   "execution_count": 15,
   "id": "5e32c343",
   "metadata": {},
   "outputs": [
    {
     "data": {
      "text/plain": [
       "0"
      ]
     },
     "execution_count": 15,
     "metadata": {},
     "output_type": "execute_result"
    }
   ],
   "source": [
    "a"
   ]
  },
  {
   "cell_type": "code",
   "execution_count": 16,
   "id": "bc9a8eee",
   "metadata": {},
   "outputs": [
    {
     "data": {
      "text/plain": [
       "31.428571428571427"
      ]
     },
     "execution_count": 16,
     "metadata": {},
     "output_type": "execute_result"
    }
   ],
   "source": [
    "pi = 22/7\n",
    "çap = 10\n",
    "çevre = 2 * pi * çap / 2\n",
    "çevre"
   ]
  },
  {
   "cell_type": "code",
   "execution_count": 17,
   "id": "3fae7c29",
   "metadata": {},
   "outputs": [
    {
     "data": {
      "text/plain": [
       "31.428571428571427"
      ]
     },
     "execution_count": 17,
     "metadata": {},
     "output_type": "execute_result"
    }
   ],
   "source": [
    "220/7\n"
   ]
  },
  {
   "cell_type": "code",
   "execution_count": 18,
   "id": "71f828c0",
   "metadata": {},
   "outputs": [],
   "source": [
    "i = 7\n"
   ]
  },
  {
   "cell_type": "code",
   "execution_count": 19,
   "id": "037cc39c",
   "metadata": {},
   "outputs": [],
   "source": [
    "i = i+1"
   ]
  },
  {
   "cell_type": "code",
   "execution_count": 20,
   "id": "45ef0d7e",
   "metadata": {},
   "outputs": [
    {
     "data": {
      "text/plain": [
       "8"
      ]
     },
     "execution_count": 20,
     "metadata": {},
     "output_type": "execute_result"
    }
   ],
   "source": [
    "i"
   ]
  },
  {
   "cell_type": "code",
   "execution_count": 21,
   "id": "74b3dc17",
   "metadata": {},
   "outputs": [],
   "source": [
    "i += 1"
   ]
  },
  {
   "cell_type": "code",
   "execution_count": 22,
   "id": "0024bfb2",
   "metadata": {},
   "outputs": [
    {
     "data": {
      "text/plain": [
       "9"
      ]
     },
     "execution_count": 22,
     "metadata": {},
     "output_type": "execute_result"
    }
   ],
   "source": [
    "i"
   ]
  },
  {
   "cell_type": "code",
   "execution_count": 24,
   "id": "fbd0ec14",
   "metadata": {},
   "outputs": [
    {
     "name": "stdout",
     "output_type": "stream",
     "text": [
      "ahmet\n"
     ]
    }
   ],
   "source": [
    "\"\"\"\n",
    "\n",
    "asdad\n",
    "asdaada\n",
    "asdad\n",
    "asdasd\n",
    "asdasd\n",
    "ada\n",
    "\n",
    "\"\"\"\n",
    "print(\"ahmet\")"
   ]
  },
  {
   "cell_type": "code",
   "execution_count": 25,
   "id": "0c92c9ba",
   "metadata": {},
   "outputs": [],
   "source": [
    "#asasas\n"
   ]
  },
  {
   "cell_type": "code",
   "execution_count": 1,
   "id": "1fafe14c",
   "metadata": {},
   "outputs": [
    {
     "ename": "NameError",
     "evalue": "name 'a' is not defined",
     "output_type": "error",
     "traceback": [
      "\u001b[1;31m---------------------------------------------------------------------------\u001b[0m",
      "\u001b[1;31mNameError\u001b[0m                                 Traceback (most recent call last)",
      "\u001b[1;32m<ipython-input-1-3f786850e387>\u001b[0m in \u001b[0;36m<module>\u001b[1;34m\u001b[0m\n\u001b[1;32m----> 1\u001b[1;33m \u001b[0ma\u001b[0m\u001b[1;33m\u001b[0m\u001b[1;33m\u001b[0m\u001b[0m\n\u001b[0m",
      "\u001b[1;31mNameError\u001b[0m: name 'a' is not defined"
     ]
    }
   ],
   "source": [
    "a\n"
   ]
  },
  {
   "cell_type": "markdown",
   "id": "49ee7758",
   "metadata": {},
   "source": [
    "MATEMATİK OPERATÖRLERİ\n"
   ]
  },
  {
   "cell_type": "markdown",
   "id": "f0388061",
   "metadata": {},
   "source": [
    "K=23\n",
    "L=232\n",
    "M=22\n",
    "K+L+M\n"
   ]
  },
  {
   "cell_type": "code",
   "execution_count": 2,
   "id": "18eb5f4f",
   "metadata": {},
   "outputs": [
    {
     "ename": "NameError",
     "evalue": "name 'K' is not defined",
     "output_type": "error",
     "traceback": [
      "\u001b[1;31m---------------------------------------------------------------------------\u001b[0m",
      "\u001b[1;31mNameError\u001b[0m                                 Traceback (most recent call last)",
      "\u001b[1;32m<ipython-input-2-88147f165196>\u001b[0m in \u001b[0;36m<module>\u001b[1;34m\u001b[0m\n\u001b[1;32m----> 1\u001b[1;33m \u001b[0mK\u001b[0m\u001b[1;33m+\u001b[0m\u001b[0mL\u001b[0m\u001b[1;33m\u001b[0m\u001b[1;33m\u001b[0m\u001b[0m\n\u001b[0m",
      "\u001b[1;31mNameError\u001b[0m: name 'K' is not defined"
     ]
    }
   ],
   "source": [
    "K+L\n"
   ]
  },
  {
   "cell_type": "code",
   "execution_count": 3,
   "id": "99f9773c",
   "metadata": {},
   "outputs": [
    {
     "data": {
      "text/plain": [
       "277"
      ]
     },
     "execution_count": 3,
     "metadata": {},
     "output_type": "execute_result"
    }
   ],
   "source": [
    "K=23 \n",
    "L=232 \n",
    "M=22 \n",
    "K+L+M"
   ]
  },
  {
   "cell_type": "code",
   "execution_count": 3,
   "id": "f4b7e8ee",
   "metadata": {},
   "outputs": [
    {
     "data": {
      "text/plain": [
       "19.416666666666668"
      ]
     },
     "execution_count": 3,
     "metadata": {},
     "output_type": "execute_result"
    }
   ],
   "source": [
    "A=233\n",
    "B=12\n",
    "A/B"
   ]
  },
  {
   "cell_type": "code",
   "execution_count": 4,
   "id": "d97cc2e8",
   "metadata": {},
   "outputs": [
    {
     "data": {
      "text/plain": [
       "19"
      ]
     },
     "execution_count": 4,
     "metadata": {},
     "output_type": "execute_result"
    }
   ],
   "source": [
    "#tam bölüyor virgülden sonrasını atıyor\n",
    "A//B"
   ]
  },
  {
   "cell_type": "code",
   "execution_count": 1,
   "id": "25c12868",
   "metadata": {},
   "outputs": [
    {
     "data": {
      "text/plain": [
       "1"
      ]
     },
     "execution_count": 1,
     "metadata": {},
     "output_type": "execute_result"
    }
   ],
   "source": [
    "#kalanı veriyor\n",
    "13%4"
   ]
  },
  {
   "cell_type": "code",
   "execution_count": 5,
   "id": "08293b0a",
   "metadata": {},
   "outputs": [
    {
     "data": {
      "text/plain": [
       "16"
      ]
     },
     "execution_count": 5,
     "metadata": {},
     "output_type": "execute_result"
    }
   ],
   "source": [
    "2**4\n",
    "# 4,dördüncü kuvvet"
   ]
  },
  {
   "cell_type": "code",
   "execution_count": 8,
   "id": "478c2041",
   "metadata": {},
   "outputs": [
    {
     "data": {
      "text/plain": [
       "19683"
      ]
     },
     "execution_count": 8,
     "metadata": {},
     "output_type": "execute_result"
    }
   ],
   "source": [
    "3**9\n"
   ]
  },
  {
   "cell_type": "code",
   "execution_count": 10,
   "id": "53367f1c",
   "metadata": {},
   "outputs": [
    {
     "data": {
      "text/plain": [
       "8.0"
      ]
     },
     "execution_count": 10,
     "metadata": {},
     "output_type": "execute_result"
    }
   ],
   "source": [
    "#KAREKÖK\n",
    "64**0.5"
   ]
  },
  {
   "cell_type": "code",
   "execution_count": 11,
   "id": "2be77553",
   "metadata": {},
   "outputs": [
    {
     "data": {
      "text/plain": [
       "2.6666666666666665"
      ]
     },
     "execution_count": 11,
     "metadata": {},
     "output_type": "execute_result"
    }
   ],
   "source": [
    "8**1/3"
   ]
  },
  {
   "cell_type": "code",
   "execution_count": 12,
   "id": "6d284e67",
   "metadata": {},
   "outputs": [
    {
     "data": {
      "text/plain": [
       "2.0"
      ]
     },
     "execution_count": 12,
     "metadata": {},
     "output_type": "execute_result"
    }
   ],
   "source": [
    "8**(1/3)"
   ]
  },
  {
   "cell_type": "code",
   "execution_count": 13,
   "id": "4b896dea",
   "metadata": {},
   "outputs": [
    {
     "data": {
      "text/plain": [
       "-23"
      ]
     },
     "execution_count": 13,
     "metadata": {},
     "output_type": "execute_result"
    }
   ],
   "source": [
    "-K"
   ]
  },
  {
   "cell_type": "code",
   "execution_count": 14,
   "id": "db43601f",
   "metadata": {},
   "outputs": [
    {
     "data": {
      "text/plain": [
       "23"
      ]
     },
     "execution_count": 14,
     "metadata": {},
     "output_type": "execute_result"
    }
   ],
   "source": [
    "K"
   ]
  },
  {
   "cell_type": "code",
   "execution_count": 15,
   "id": "8c88819e",
   "metadata": {},
   "outputs": [
    {
     "data": {
      "text/plain": [
       "-23"
      ]
     },
     "execution_count": 15,
     "metadata": {},
     "output_type": "execute_result"
    }
   ],
   "source": [
    "K = -K\n",
    "K"
   ]
  },
  {
   "cell_type": "markdown",
   "id": "8538e9e6",
   "metadata": {},
   "source": [
    "STRİNG OLUŞTURMA"
   ]
  },
  {
   "cell_type": "code",
   "execution_count": 1,
   "id": "1b6ad11a",
   "metadata": {},
   "outputs": [
    {
     "data": {
      "text/plain": [
       "'MERHABA'"
      ]
     },
     "execution_count": 1,
     "metadata": {},
     "output_type": "execute_result"
    }
   ],
   "source": [
    "\"MERHABA\""
   ]
  },
  {
   "cell_type": "code",
   "execution_count": 2,
   "id": "d80be909",
   "metadata": {},
   "outputs": [
    {
     "data": {
      "text/plain": [
       "'MERHABA'"
      ]
     },
     "execution_count": 2,
     "metadata": {},
     "output_type": "execute_result"
    }
   ],
   "source": [
    "\"\"\"MERHABA\"\"\""
   ]
  },
  {
   "cell_type": "code",
   "execution_count": 3,
   "id": "b4d962b4",
   "metadata": {},
   "outputs": [],
   "source": [
    "A=\"MERHABA\""
   ]
  },
  {
   "cell_type": "code",
   "execution_count": 4,
   "id": "4dacb5ef",
   "metadata": {},
   "outputs": [
    {
     "data": {
      "text/plain": [
       "'MERHABA'"
      ]
     },
     "execution_count": 4,
     "metadata": {},
     "output_type": "execute_result"
    }
   ],
   "source": [
    "A"
   ]
  },
  {
   "cell_type": "code",
   "execution_count": 5,
   "id": "874bd0f3",
   "metadata": {},
   "outputs": [
    {
     "data": {
      "text/plain": [
       "'H'"
      ]
     },
     "execution_count": 5,
     "metadata": {},
     "output_type": "execute_result"
    }
   ],
   "source": [
    "A[3]"
   ]
  },
  {
   "cell_type": "code",
   "execution_count": 6,
   "id": "b900d2f4",
   "metadata": {},
   "outputs": [
    {
     "data": {
      "text/plain": [
       "'H'"
      ]
     },
     "execution_count": 6,
     "metadata": {},
     "output_type": "execute_result"
    }
   ],
   "source": [
    "A[-4]"
   ]
  },
  {
   "cell_type": "code",
   "execution_count": 7,
   "id": "dd6bfba1",
   "metadata": {},
   "outputs": [],
   "source": [
    "A = \"PYTHON PROGRAMLAMA DİLİ\""
   ]
  },
  {
   "cell_type": "code",
   "execution_count": 8,
   "id": "0eb148a2",
   "metadata": {},
   "outputs": [
    {
     "data": {
      "text/plain": [
       "'PYTHON PRO'"
      ]
     },
     "execution_count": 8,
     "metadata": {},
     "output_type": "execute_result"
    }
   ],
   "source": [
    "A[0:10]"
   ]
  },
  {
   "cell_type": "code",
   "execution_count": 9,
   "id": "28a31c09",
   "metadata": {},
   "outputs": [
    {
     "data": {
      "text/plain": [
       "'PYTHON PRO'"
      ]
     },
     "execution_count": 9,
     "metadata": {},
     "output_type": "execute_result"
    }
   ],
   "source": [
    "A[:10]"
   ]
  },
  {
   "cell_type": "code",
   "execution_count": 10,
   "id": "3c9b0227",
   "metadata": {},
   "outputs": [
    {
     "data": {
      "text/plain": [
       "'ON PROGRAMLAMA DİLİ'"
      ]
     },
     "execution_count": 10,
     "metadata": {},
     "output_type": "execute_result"
    }
   ],
   "source": [
    "A[4:]"
   ]
  },
  {
   "cell_type": "code",
   "execution_count": 11,
   "id": "5ab9ecf9",
   "metadata": {},
   "outputs": [
    {
     "data": {
      "text/plain": [
       "'PYTHON PROGRAMLAMA'"
      ]
     },
     "execution_count": 11,
     "metadata": {},
     "output_type": "execute_result"
    }
   ],
   "source": [
    "A[:-5]"
   ]
  },
  {
   "cell_type": "code",
   "execution_count": 12,
   "id": "7f77e879",
   "metadata": {},
   "outputs": [
    {
     "data": {
      "text/plain": [
       "'PH OAA L'"
      ]
     },
     "execution_count": 12,
     "metadata": {},
     "output_type": "execute_result"
    }
   ],
   "source": [
    "A[::3]"
   ]
  },
  {
   "cell_type": "code",
   "execution_count": 13,
   "id": "2ce1f8dc",
   "metadata": {},
   "outputs": [
    {
     "data": {
      "text/plain": [
       "'İLİD AMALMARGORP NOHTYP'"
      ]
     },
     "execution_count": 13,
     "metadata": {},
     "output_type": "execute_result"
    }
   ],
   "source": [
    "A[::-1]"
   ]
  },
  {
   "cell_type": "code",
   "execution_count": 6,
   "id": "09b9ed40",
   "metadata": {},
   "outputs": [],
   "source": [
    "B=\"SAMSUN SİNOP\""
   ]
  },
  {
   "cell_type": "code",
   "execution_count": 15,
   "id": "3c9b8a4a",
   "metadata": {},
   "outputs": [
    {
     "ename": "NameError",
     "evalue": "name 'LEN' is not defined",
     "output_type": "error",
     "traceback": [
      "\u001b[1;31m---------------------------------------------------------------------------\u001b[0m",
      "\u001b[1;31mNameError\u001b[0m                                 Traceback (most recent call last)",
      "\u001b[1;32m<ipython-input-15-a7568d10ab68>\u001b[0m in \u001b[0;36m<module>\u001b[1;34m\u001b[0m\n\u001b[1;32m----> 1\u001b[1;33m \u001b[0mLEN\u001b[0m\u001b[1;33m[\u001b[0m\u001b[0mB\u001b[0m\u001b[1;33m]\u001b[0m\u001b[1;33m\u001b[0m\u001b[1;33m\u001b[0m\u001b[0m\n\u001b[0m",
      "\u001b[1;31mNameError\u001b[0m: name 'LEN' is not defined"
     ]
    }
   ],
   "source": [
    "LEN[B]"
   ]
  },
  {
   "cell_type": "code",
   "execution_count": 16,
   "id": "553f27be",
   "metadata": {},
   "outputs": [
    {
     "ename": "NameError",
     "evalue": "name 'LEN' is not defined",
     "output_type": "error",
     "traceback": [
      "\u001b[1;31m---------------------------------------------------------------------------\u001b[0m",
      "\u001b[1;31mNameError\u001b[0m                                 Traceback (most recent call last)",
      "\u001b[1;32m<ipython-input-16-442f2640bb8a>\u001b[0m in \u001b[0;36m<module>\u001b[1;34m\u001b[0m\n\u001b[1;32m----> 1\u001b[1;33m \u001b[0mLEN\u001b[0m\u001b[1;33m(\u001b[0m\u001b[0mB\u001b[0m\u001b[1;33m)\u001b[0m\u001b[1;33m\u001b[0m\u001b[1;33m\u001b[0m\u001b[0m\n\u001b[0m",
      "\u001b[1;31mNameError\u001b[0m: name 'LEN' is not defined"
     ]
    }
   ],
   "source": [
    "LEN(B)"
   ]
  },
  {
   "cell_type": "code",
   "execution_count": 7,
   "id": "ba3853b5",
   "metadata": {},
   "outputs": [
    {
     "ename": "NameError",
     "evalue": "name 'b' is not defined",
     "output_type": "error",
     "traceback": [
      "\u001b[1;31m---------------------------------------------------------------------------\u001b[0m",
      "\u001b[1;31mNameError\u001b[0m                                 Traceback (most recent call last)",
      "\u001b[1;32m<ipython-input-7-97d8916a185b>\u001b[0m in \u001b[0;36m<module>\u001b[1;34m\u001b[0m\n\u001b[1;32m----> 1\u001b[1;33m \u001b[0mlen\u001b[0m\u001b[1;33m(\u001b[0m\u001b[0mb\u001b[0m\u001b[1;33m)\u001b[0m\u001b[1;33m\u001b[0m\u001b[1;33m\u001b[0m\u001b[0m\n\u001b[0m",
      "\u001b[1;31mNameError\u001b[0m: name 'b' is not defined"
     ]
    }
   ],
   "source": [
    "len(b)"
   ]
  },
  {
   "cell_type": "code",
   "execution_count": 18,
   "id": "f7be9ec2",
   "metadata": {},
   "outputs": [
    {
     "ename": "NameError",
     "evalue": "name 'b' is not defined",
     "output_type": "error",
     "traceback": [
      "\u001b[1;31m---------------------------------------------------------------------------\u001b[0m",
      "\u001b[1;31mNameError\u001b[0m                                 Traceback (most recent call last)",
      "\u001b[1;32m<ipython-input-18-89e6c98d9288>\u001b[0m in \u001b[0;36m<module>\u001b[1;34m\u001b[0m\n\u001b[1;32m----> 1\u001b[1;33m \u001b[0mb\u001b[0m\u001b[1;33m\u001b[0m\u001b[1;33m\u001b[0m\u001b[0m\n\u001b[0m",
      "\u001b[1;31mNameError\u001b[0m: name 'b' is not defined"
     ]
    }
   ],
   "source": [
    "b"
   ]
  },
  {
   "cell_type": "code",
   "execution_count": 19,
   "id": "156fc874",
   "metadata": {},
   "outputs": [],
   "source": [
    "b=\"samsun sinop\""
   ]
  },
  {
   "cell_type": "code",
   "execution_count": 20,
   "id": "b523de9a",
   "metadata": {},
   "outputs": [
    {
     "data": {
      "text/plain": [
       "'samsun sinop'"
      ]
     },
     "execution_count": 20,
     "metadata": {},
     "output_type": "execute_result"
    }
   ],
   "source": [
    "b"
   ]
  },
  {
   "cell_type": "code",
   "execution_count": 21,
   "id": "0ef9ee05",
   "metadata": {},
   "outputs": [
    {
     "data": {
      "text/plain": [
       "12"
      ]
     },
     "execution_count": 21,
     "metadata": {},
     "output_type": "execute_result"
    }
   ],
   "source": [
    "len(b)"
   ]
  },
  {
   "cell_type": "code",
   "execution_count": 22,
   "id": "69221124",
   "metadata": {},
   "outputs": [],
   "source": [
    "a=\"ahmet\""
   ]
  },
  {
   "cell_type": "code",
   "execution_count": 23,
   "id": "b4c03803",
   "metadata": {},
   "outputs": [],
   "source": [
    "a=a+\"genez\""
   ]
  },
  {
   "cell_type": "code",
   "execution_count": 24,
   "id": "f1ca11cf",
   "metadata": {},
   "outputs": [
    {
     "data": {
      "text/plain": [
       "'ahmetgenez'"
      ]
     },
     "execution_count": 24,
     "metadata": {},
     "output_type": "execute_result"
    }
   ],
   "source": [
    "a"
   ]
  },
  {
   "cell_type": "code",
   "execution_count": 25,
   "id": "f457cc1f",
   "metadata": {},
   "outputs": [],
   "source": [
    "a=\"ahmet \""
   ]
  },
  {
   "cell_type": "code",
   "execution_count": 26,
   "id": "f47b9333",
   "metadata": {},
   "outputs": [],
   "source": [
    "a= a+\"genez\""
   ]
  },
  {
   "cell_type": "code",
   "execution_count": 27,
   "id": "2c0f2df4",
   "metadata": {},
   "outputs": [
    {
     "data": {
      "text/plain": [
       "'ahmet genez'"
      ]
     },
     "execution_count": 27,
     "metadata": {},
     "output_type": "execute_result"
    }
   ],
   "source": [
    "a"
   ]
  },
  {
   "cell_type": "markdown",
   "id": "45eab443",
   "metadata": {},
   "source": [
    "VERİ TİPİ DÖNÜŞÜMLERİ"
   ]
  },
  {
   "cell_type": "code",
   "execution_count": 3,
   "id": "02d26a12",
   "metadata": {},
   "outputs": [],
   "source": [
    "a = 43 \n",
    "a = float(a)"
   ]
  },
  {
   "cell_type": "code",
   "execution_count": 4,
   "id": "afce3777",
   "metadata": {},
   "outputs": [
    {
     "data": {
      "text/plain": [
       "43.0"
      ]
     },
     "execution_count": 4,
     "metadata": {},
     "output_type": "execute_result"
    }
   ],
   "source": [
    "a"
   ]
  },
  {
   "cell_type": "code",
   "execution_count": 5,
   "id": "2a3f340a",
   "metadata": {},
   "outputs": [
    {
     "data": {
      "text/plain": [
       "43.43"
      ]
     },
     "execution_count": 5,
     "metadata": {},
     "output_type": "execute_result"
    }
   ],
   "source": [
    "b=43.43\n",
    "int(b)\n",
    "b"
   ]
  },
  {
   "cell_type": "code",
   "execution_count": 6,
   "id": "feb7c292",
   "metadata": {},
   "outputs": [
    {
     "data": {
      "text/plain": [
       "43"
      ]
     },
     "execution_count": 6,
     "metadata": {},
     "output_type": "execute_result"
    }
   ],
   "source": [
    "int(b)"
   ]
  },
  {
   "cell_type": "code",
   "execution_count": 7,
   "id": "7dc06fdc",
   "metadata": {},
   "outputs": [
    {
     "data": {
      "text/plain": [
       "43.43"
      ]
     },
     "execution_count": 7,
     "metadata": {},
     "output_type": "execute_result"
    }
   ],
   "source": [
    "b"
   ]
  },
  {
   "cell_type": "code",
   "execution_count": 8,
   "id": "bfbfafae",
   "metadata": {},
   "outputs": [
    {
     "data": {
      "text/plain": [
       "43"
      ]
     },
     "execution_count": 8,
     "metadata": {},
     "output_type": "execute_result"
    }
   ],
   "source": [
    "b=int(b)\n",
    "b"
   ]
  },
  {
   "cell_type": "code",
   "execution_count": 9,
   "id": "9688a501",
   "metadata": {},
   "outputs": [
    {
     "ename": "NameError",
     "evalue": "name 'wfsdfs' is not defined",
     "output_type": "error",
     "traceback": [
      "\u001b[1;31m---------------------------------------------------------------------------\u001b[0m",
      "\u001b[1;31mNameError\u001b[0m                                 Traceback (most recent call last)",
      "\u001b[1;32m<ipython-input-9-b922568b6fe8>\u001b[0m in \u001b[0;36m<module>\u001b[1;34m\u001b[0m\n\u001b[1;32m----> 1\u001b[1;33m \u001b[0mwfsdfs\u001b[0m\u001b[1;33m\u001b[0m\u001b[1;33m\u001b[0m\u001b[0m\n\u001b[0m",
      "\u001b[1;31mNameError\u001b[0m: name 'wfsdfs' is not defined"
     ]
    }
   ],
   "source": [
    "wfsdfs"
   ]
  },
  {
   "cell_type": "code",
   "execution_count": 10,
   "id": "ec7aa4c6",
   "metadata": {},
   "outputs": [
    {
     "data": {
      "text/plain": [
       "2323"
      ]
     },
     "execution_count": 10,
     "metadata": {},
     "output_type": "execute_result"
    }
   ],
   "source": [
    "2323"
   ]
  },
  {
   "cell_type": "markdown",
   "id": "46395eed",
   "metadata": {},
   "source": [
    "PRİNT FONK. VE FORMATLAMA"
   ]
  },
  {
   "cell_type": "code",
   "execution_count": 11,
   "id": "24582e11",
   "metadata": {},
   "outputs": [
    {
     "ename": "NameError",
     "evalue": "name 'ahmet' is not defined",
     "output_type": "error",
     "traceback": [
      "\u001b[1;31m---------------------------------------------------------------------------\u001b[0m",
      "\u001b[1;31mNameError\u001b[0m                                 Traceback (most recent call last)",
      "\u001b[1;32m<ipython-input-11-84cf8c8ac7ff>\u001b[0m in \u001b[0;36m<module>\u001b[1;34m\u001b[0m\n\u001b[1;32m----> 1\u001b[1;33m \u001b[0mprint\u001b[0m\u001b[1;33m(\u001b[0m\u001b[0mahmet\u001b[0m\u001b[1;33m)\u001b[0m\u001b[1;33m\u001b[0m\u001b[1;33m\u001b[0m\u001b[0m\n\u001b[0m",
      "\u001b[1;31mNameError\u001b[0m: name 'ahmet' is not defined"
     ]
    }
   ],
   "source": [
    "print(ahmet)"
   ]
  },
  {
   "cell_type": "code",
   "execution_count": 13,
   "id": "75779e46",
   "metadata": {},
   "outputs": [
    {
     "name": "stdout",
     "output_type": "stream",
     "text": [
      "ahmet\n",
      "genez\n"
     ]
    }
   ],
   "source": [
    "print(\"ahmet\\ngenez\")"
   ]
  },
  {
   "cell_type": "code",
   "execution_count": 15,
   "id": "478a7a4d",
   "metadata": {},
   "outputs": [
    {
     "name": "stdout",
     "output_type": "stream",
     "text": [
      "ahmet\tgenez\n"
     ]
    }
   ],
   "source": [
    "print(\"ahmet\\tgenez\")"
   ]
  },
  {
   "cell_type": "code",
   "execution_count": 16,
   "id": "0f25e13c",
   "metadata": {},
   "outputs": [
    {
     "data": {
      "text/plain": [
       "int"
      ]
     },
     "execution_count": 16,
     "metadata": {},
     "output_type": "execute_result"
    }
   ],
   "source": [
    "type(121)"
   ]
  },
  {
   "cell_type": "code",
   "execution_count": 17,
   "id": "a98223da",
   "metadata": {},
   "outputs": [
    {
     "data": {
      "text/plain": [
       "float"
      ]
     },
     "execution_count": 17,
     "metadata": {},
     "output_type": "execute_result"
    }
   ],
   "source": [
    "type(232.231)"
   ]
  },
  {
   "cell_type": "code",
   "execution_count": 18,
   "id": "02237fbb",
   "metadata": {},
   "outputs": [
    {
     "data": {
      "text/plain": [
       "str"
      ]
     },
     "execution_count": 18,
     "metadata": {},
     "output_type": "execute_result"
    }
   ],
   "source": [
    "type(\"ahmet\")"
   ]
  },
  {
   "cell_type": "code",
   "execution_count": 19,
   "id": "9b13aa93",
   "metadata": {},
   "outputs": [
    {
     "name": "stdout",
     "output_type": "stream",
     "text": [
      "12 12 42 2,6 56\n"
     ]
    }
   ],
   "source": [
    "    print(12,12,42,\"2,6\",56)"
   ]
  },
  {
   "cell_type": "code",
   "execution_count": 20,
   "id": "29b54fc8",
   "metadata": {},
   "outputs": [
    {
     "name": "stdout",
     "output_type": "stream",
     "text": [
      "12--12--42--2,6--56\n"
     ]
    }
   ],
   "source": [
    "print(12,12,42,\"2,6\",56,sep=\"--\")"
   ]
  },
  {
   "cell_type": "code",
   "execution_count": 22,
   "id": "e7f5c80f",
   "metadata": {},
   "outputs": [
    {
     "name": "stdout",
     "output_type": "stream",
     "text": [
      "ahmet\n",
      "genez\n"
     ]
    }
   ],
   "source": [
    "print(\"ahmet\",\"genez\",sep = \"\\n\")"
   ]
  },
  {
   "cell_type": "code",
   "execution_count": 23,
   "id": "3e341e6b",
   "metadata": {},
   "outputs": [
    {
     "name": "stdout",
     "output_type": "stream",
     "text": [
      "a h m e t\n"
     ]
    }
   ],
   "source": [
    "print(*\"ahmet\")"
   ]
  },
  {
   "cell_type": "code",
   "execution_count": 24,
   "id": "75505c64",
   "metadata": {},
   "outputs": [
    {
     "name": "stdout",
     "output_type": "stream",
     "text": [
      "T.B.M.M\n"
     ]
    }
   ],
   "source": [
    "print(*\"TBMM\",sep=\".\")"
   ]
  },
  {
   "cell_type": "code",
   "execution_count": 25,
   "id": "603a80bb",
   "metadata": {},
   "outputs": [
    {
     "data": {
      "text/plain": [
       "'3.18 5.78 9'"
      ]
     },
     "execution_count": 25,
     "metadata": {},
     "output_type": "execute_result"
    }
   ],
   "source": [
    "\"{} {} {}\".format(3.18,5.78,9)"
   ]
  },
  {
   "cell_type": "code",
   "execution_count": 28,
   "id": "ea17bc67",
   "metadata": {},
   "outputs": [
    {
     "name": "stdout",
     "output_type": "stream",
     "text": [
      "11 + 23 işleminin sonucu 34 olur.\n"
     ]
    }
   ],
   "source": [
    "a=11\n",
    "b=23\n",
    "print(\"{} + {} işleminin sonucu {} olur.\".format(a,b,a+b))"
   ]
  },
  {
   "cell_type": "markdown",
   "id": "3d227c97",
   "metadata": {},
   "source": [
    "LİSTELER"
   ]
  },
  {
   "cell_type": "code",
   "execution_count": 1,
   "id": "2588a6a0",
   "metadata": {},
   "outputs": [],
   "source": [
    "liste = [\"elma\",35,\"merhaba\",3.14,5]"
   ]
  },
  {
   "cell_type": "code",
   "execution_count": 2,
   "id": "cee156c6",
   "metadata": {},
   "outputs": [
    {
     "data": {
      "text/plain": [
       "list"
      ]
     },
     "execution_count": 2,
     "metadata": {},
     "output_type": "execute_result"
    }
   ],
   "source": [
    "type(liste)"
   ]
  },
  {
   "cell_type": "code",
   "execution_count": 3,
   "id": "cce9cca2",
   "metadata": {},
   "outputs": [
    {
     "data": {
      "text/plain": [
       "['elma', 35, 'merhaba', 3.14, 5]"
      ]
     },
     "execution_count": 3,
     "metadata": {},
     "output_type": "execute_result"
    }
   ],
   "source": [
    "liste"
   ]
  },
  {
   "cell_type": "code",
   "execution_count": 4,
   "id": "1789bbaf",
   "metadata": {},
   "outputs": [
    {
     "data": {
      "text/plain": [
       "9"
      ]
     },
     "execution_count": 4,
     "metadata": {},
     "output_type": "execute_result"
    }
   ],
   "source": [
    "l2 = [1,2,3,4,5,6,7,8,9]\n",
    "len(l2)"
   ]
  },
  {
   "cell_type": "code",
   "execution_count": 5,
   "id": "6967fbb4",
   "metadata": {},
   "outputs": [],
   "source": [
    "l3= list(\"merhaba\")"
   ]
  },
  {
   "cell_type": "code",
   "execution_count": 6,
   "id": "1234cb07",
   "metadata": {},
   "outputs": [
    {
     "data": {
      "text/plain": [
       "['m', 'e', 'r', 'h', 'a', 'b', 'a']"
      ]
     },
     "execution_count": 6,
     "metadata": {},
     "output_type": "execute_result"
    }
   ],
   "source": [
    "l3"
   ]
  },
  {
   "cell_type": "code",
   "execution_count": 7,
   "id": "e6f389b9",
   "metadata": {},
   "outputs": [
    {
     "data": {
      "text/plain": [
       "7"
      ]
     },
     "execution_count": 7,
     "metadata": {},
     "output_type": "execute_result"
    }
   ],
   "source": [
    "liste = [3,4,5,7,7,8,98,8]\n",
    "liste[4]"
   ]
  },
  {
   "cell_type": "code",
   "execution_count": 8,
   "id": "38566fcc",
   "metadata": {},
   "outputs": [],
   "source": [
    "l3 = [4,5,6]\n",
    "l4 = [7,8,9]"
   ]
  },
  {
   "cell_type": "code",
   "execution_count": 9,
   "id": "6ae81e70",
   "metadata": {},
   "outputs": [],
   "source": [
    "l5 = l3+l4"
   ]
  },
  {
   "cell_type": "code",
   "execution_count": 10,
   "id": "0763455c",
   "metadata": {},
   "outputs": [
    {
     "data": {
      "text/plain": [
       "[4, 5, 6, 7, 8, 9]"
      ]
     },
     "execution_count": 10,
     "metadata": {},
     "output_type": "execute_result"
    }
   ],
   "source": [
    "l5"
   ]
  },
  {
   "cell_type": "code",
   "execution_count": 11,
   "id": "8af8d554",
   "metadata": {},
   "outputs": [
    {
     "data": {
      "text/plain": [
       "[4, 5, 6, 7, 8, 9, 4, 5, 6, 7, 8, 9]"
      ]
     },
     "execution_count": 11,
     "metadata": {},
     "output_type": "execute_result"
    }
   ],
   "source": [
    "l5 * 2"
   ]
  },
  {
   "cell_type": "code",
   "execution_count": 12,
   "id": "42b5786d",
   "metadata": {},
   "outputs": [
    {
     "ename": "NameError",
     "evalue": "name 'p' is not defined",
     "output_type": "error",
     "traceback": [
      "\u001b[1;31m---------------------------------------------------------------------------\u001b[0m",
      "\u001b[1;31mNameError\u001b[0m                                 Traceback (most recent call last)",
      "\u001b[1;32m<ipython-input-12-a23c8203176d>\u001b[0m in \u001b[0;36m<module>\u001b[1;34m\u001b[0m\n\u001b[0;32m      1\u001b[0m \u001b[0ma\u001b[0m\u001b[1;33m=\u001b[0m \u001b[1;34m\"murat\"\u001b[0m\u001b[1;33m\u001b[0m\u001b[1;33m\u001b[0m\u001b[0m\n\u001b[1;32m----> 2\u001b[1;33m \u001b[0ma\u001b[0m\u001b[1;33m[\u001b[0m\u001b[1;36m1\u001b[0m\u001b[1;33m]\u001b[0m \u001b[1;33m=\u001b[0m \u001b[0mp\u001b[0m\u001b[1;33m\u001b[0m\u001b[1;33m\u001b[0m\u001b[0m\n\u001b[0m",
      "\u001b[1;31mNameError\u001b[0m: name 'p' is not defined"
     ]
    }
   ],
   "source": [
    "a= \"murat\"\n",
    "a[1] = p"
   ]
  },
  {
   "cell_type": "code",
   "execution_count": 13,
   "id": "c483be7e",
   "metadata": {},
   "outputs": [
    {
     "data": {
      "text/plain": [
       "[1, 2, 3, 4, 5, 6, 7, 8, 9]"
      ]
     },
     "execution_count": 13,
     "metadata": {},
     "output_type": "execute_result"
    }
   ],
   "source": [
    "l2"
   ]
  },
  {
   "cell_type": "code",
   "execution_count": 14,
   "id": "74bdbe80",
   "metadata": {},
   "outputs": [
    {
     "data": {
      "text/plain": [
       "[1, 2, 3, 99, 5, 6, 7, 8, 9]"
      ]
     },
     "execution_count": 14,
     "metadata": {},
     "output_type": "execute_result"
    }
   ],
   "source": [
    "l2[3]=99\n",
    "l2"
   ]
  },
  {
   "cell_type": "code",
   "execution_count": 15,
   "id": "888e793e",
   "metadata": {},
   "outputs": [],
   "source": [
    "liste = [1,2,3,4,5,6]"
   ]
  },
  {
   "cell_type": "code",
   "execution_count": 16,
   "id": "531ff107",
   "metadata": {},
   "outputs": [
    {
     "data": {
      "text/plain": [
       "[1, 2]"
      ]
     },
     "execution_count": 16,
     "metadata": {},
     "output_type": "execute_result"
    }
   ],
   "source": [
    "liste[:2]"
   ]
  },
  {
   "cell_type": "code",
   "execution_count": 17,
   "id": "90cf440e",
   "metadata": {},
   "outputs": [
    {
     "data": {
      "text/plain": [
       "[22, 33, 3, 4, 5, 6]"
      ]
     },
     "execution_count": 17,
     "metadata": {},
     "output_type": "execute_result"
    }
   ],
   "source": [
    "liste[:2]=[22,33]\n",
    "liste"
   ]
  },
  {
   "cell_type": "code",
   "execution_count": 18,
   "id": "161c5026",
   "metadata": {},
   "outputs": [
    {
     "data": {
      "text/plain": [
       "[22, 33, 3, 4, 5, 6, 'pyton']"
      ]
     },
     "execution_count": 18,
     "metadata": {},
     "output_type": "execute_result"
    }
   ],
   "source": [
    "liste.append(\"pyton\")\n",
    "liste"
   ]
  },
  {
   "cell_type": "code",
   "execution_count": 19,
   "id": "5356215c",
   "metadata": {},
   "outputs": [
    {
     "data": {
      "text/plain": [
       "[22, 33, 3, 4, 5, 6, 'pyton', 12]"
      ]
     },
     "execution_count": 19,
     "metadata": {},
     "output_type": "execute_result"
    }
   ],
   "source": [
    "liste.append(12)\n",
    "liste"
   ]
  },
  {
   "cell_type": "code",
   "execution_count": 20,
   "id": "826a93f6",
   "metadata": {},
   "outputs": [
    {
     "data": {
      "text/plain": [
       "12"
      ]
     },
     "execution_count": 20,
     "metadata": {},
     "output_type": "execute_result"
    }
   ],
   "source": [
    "liste.pop()"
   ]
  },
  {
   "cell_type": "code",
   "execution_count": 22,
   "id": "72c699d5",
   "metadata": {},
   "outputs": [
    {
     "data": {
      "text/plain": [
       "[22, 33, 3, 4, 5, 6, 'pyton']"
      ]
     },
     "execution_count": 22,
     "metadata": {},
     "output_type": "execute_result"
    }
   ],
   "source": [
    "liste"
   ]
  },
  {
   "cell_type": "code",
   "execution_count": 23,
   "id": "6d6f26a8",
   "metadata": {},
   "outputs": [
    {
     "data": {
      "text/plain": [
       "22"
      ]
     },
     "execution_count": 23,
     "metadata": {},
     "output_type": "execute_result"
    }
   ],
   "source": [
    "liste.pop(0)"
   ]
  },
  {
   "cell_type": "code",
   "execution_count": 24,
   "id": "aa19156e",
   "metadata": {},
   "outputs": [
    {
     "data": {
      "text/plain": [
       "[33, 3, 4, 5, 6, 'pyton']"
      ]
     },
     "execution_count": 24,
     "metadata": {},
     "output_type": "execute_result"
    }
   ],
   "source": [
    "liste"
   ]
  },
  {
   "cell_type": "code",
   "execution_count": 25,
   "id": "272cf39a",
   "metadata": {},
   "outputs": [],
   "source": [
    "liste = [34,2,5,6,32,100]"
   ]
  },
  {
   "cell_type": "code",
   "execution_count": 26,
   "id": "a24b5c92",
   "metadata": {},
   "outputs": [
    {
     "data": {
      "text/plain": [
       "[34, 2, 5, 6, 32, 100]"
      ]
     },
     "execution_count": 26,
     "metadata": {},
     "output_type": "execute_result"
    }
   ],
   "source": [
    "liste"
   ]
  },
  {
   "cell_type": "code",
   "execution_count": 27,
   "id": "21db8431",
   "metadata": {},
   "outputs": [
    {
     "data": {
      "text/plain": [
       "[2, 5, 6, 32, 34, 100]"
      ]
     },
     "execution_count": 27,
     "metadata": {},
     "output_type": "execute_result"
    }
   ],
   "source": [
    "liste.sort()\n",
    "liste"
   ]
  },
  {
   "cell_type": "code",
   "execution_count": 29,
   "id": "e7d32a59",
   "metadata": {},
   "outputs": [],
   "source": [
    "liste.sort(reverse = True)"
   ]
  },
  {
   "cell_type": "code",
   "execution_count": 30,
   "id": "bb4f8aff",
   "metadata": {},
   "outputs": [
    {
     "data": {
      "text/plain": [
       "[100, 34, 32, 6, 5, 2]"
      ]
     },
     "execution_count": 30,
     "metadata": {},
     "output_type": "execute_result"
    }
   ],
   "source": [
    "liste"
   ]
  },
  {
   "cell_type": "code",
   "execution_count": 31,
   "id": "d38cdb73",
   "metadata": {},
   "outputs": [
    {
     "data": {
      "text/plain": [
       "['c', 'java', 'python', 'php']"
      ]
     },
     "execution_count": 31,
     "metadata": {},
     "output_type": "execute_result"
    }
   ],
   "source": [
    "liste = [\"c\",\"java\",\"python\",\"php\"]\n",
    "liste"
   ]
  },
  {
   "cell_type": "code",
   "execution_count": 32,
   "id": "e38bdb8e",
   "metadata": {},
   "outputs": [],
   "source": [
    "liste.sort()"
   ]
  },
  {
   "cell_type": "code",
   "execution_count": 33,
   "id": "15f58a4b",
   "metadata": {},
   "outputs": [
    {
     "data": {
      "text/plain": [
       "['c', 'java', 'php', 'python']"
      ]
     },
     "execution_count": 33,
     "metadata": {},
     "output_type": "execute_result"
    }
   ],
   "source": [
    "liste"
   ]
  },
  {
   "cell_type": "code",
   "execution_count": 35,
   "id": "574452f2",
   "metadata": {},
   "outputs": [
    {
     "data": {
      "text/plain": [
       "[[1, 2], [3, 4], [5, 6]]"
      ]
     },
     "execution_count": 35,
     "metadata": {},
     "output_type": "execute_result"
    }
   ],
   "source": [
    "liste = [[1,2],[3,4],[5,6]]\n",
    "liste"
   ]
  },
  {
   "cell_type": "code",
   "execution_count": 36,
   "id": "026d5a29",
   "metadata": {},
   "outputs": [
    {
     "data": {
      "text/plain": [
       "[3, 4]"
      ]
     },
     "execution_count": 36,
     "metadata": {},
     "output_type": "execute_result"
    }
   ],
   "source": [
    "liste[1]"
   ]
  },
  {
   "cell_type": "code",
   "execution_count": 37,
   "id": "66659ecc",
   "metadata": {},
   "outputs": [
    {
     "data": {
      "text/plain": [
       "4"
      ]
     },
     "execution_count": 37,
     "metadata": {},
     "output_type": "execute_result"
    }
   ],
   "source": [
    "liste[1][1]"
   ]
  },
  {
   "cell_type": "code",
   "execution_count": null,
   "id": "8123631d",
   "metadata": {},
   "outputs": [],
   "source": []
  }
 ],
 "metadata": {
  "kernelspec": {
   "display_name": "Python 3",
   "language": "python",
   "name": "python3"
  },
  "language_info": {
   "codemirror_mode": {
    "name": "ipython",
    "version": 3
   },
   "file_extension": ".py",
   "mimetype": "text/x-python",
   "name": "python",
   "nbconvert_exporter": "python",
   "pygments_lexer": "ipython3",
   "version": "3.8.8"
  }
 },
 "nbformat": 4,
 "nbformat_minor": 5
}
